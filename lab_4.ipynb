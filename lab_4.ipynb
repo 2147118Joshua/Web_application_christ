{
  "nbformat": 4,
  "nbformat_minor": 0,
  "metadata": {
    "colab": {
      "name": "lab_4.ipynb",
      "provenance": [],
      "collapsed_sections": [],
      "include_colab_link": true
    },
    "kernelspec": {
      "name": "python3",
      "display_name": "Python 3"
    },
    "language_info": {
      "name": "python"
    }
  },
  "cells": [
    {
      "cell_type": "markdown",
      "metadata": {
        "id": "view-in-github",
        "colab_type": "text"
      },
      "source": [
        "<a href=\"https://colab.research.google.com/github/2147118Joshua/2147118_CAC1_WB/blob/main/lab_4.ipynb\" target=\"_parent\"><img src=\"https://colab.research.google.com/assets/colab-badge.svg\" alt=\"Open In Colab\"/></a>"
      ]
    },
    {
      "cell_type": "markdown",
      "source": [
        "WORDNET [ DONT EDIT ]"
      ],
      "metadata": {
        "id": "HlvGb9UMOuYP"
      }
    },
    {
      "cell_type": "code",
      "execution_count": null,
      "metadata": {
        "colab": {
          "base_uri": "https://localhost:8080/"
        },
        "id": "evCsZx9qH2v2",
        "outputId": "021814dc-774a-46a2-ba4d-da9cb73ccd72"
      },
      "outputs": [
        {
          "output_type": "stream",
          "name": "stderr",
          "text": [
            "[nltk_data] Downloading package wordnet to /root/nltk_data...\n",
            "[nltk_data]   Package wordnet is already up-to-date!\n",
            "[nltk_data] Downloading package omw-1.4 to /root/nltk_data...\n",
            "[nltk_data]   Package omw-1.4 is already up-to-date!\n"
          ]
        }
      ],
      "source": [
        "from nltk.corpus import wordnet   #Import wordnet from the NLTK\n",
        "import nltk\n",
        "nltk.download('wordnet')\n",
        "nltk.download('omw-1.4')\n",
        "synset = wordnet.synsets(\"pirate\")\n"
      ]
    },
    {
      "cell_type": "code",
      "source": [
        "from nltk.corpus import wordnet\n",
        "   #Import wordnet from the NLTK\n",
        "synset = wordnet.synsets(\"pirate\")\n",
        "print('\\nWord and Type : ' + synset[0].name())\n",
        "print('\\nSynonym of pirate is: ' + synset[0].lemmas()[0].name())\n",
        "print('\\nThe meaning of the word : ' + synset[0].definition())\n",
        "print('\\nExample of pirate : ' + str(synset[0].examples()))"
      ],
      "metadata": {
        "colab": {
          "base_uri": "https://localhost:8080/"
        },
        "id": "O01gPL0ZLquC",
        "outputId": "a8da3cda-1963-4872-980d-438b9ce72ac6"
      },
      "execution_count": null,
      "outputs": [
        {
          "output_type": "stream",
          "name": "stdout",
          "text": [
            "\n",
            "Word and Type : plagiarist.n.01\n",
            "\n",
            "Synonym of pirate is: plagiarist\n",
            "\n",
            "The meaning of the word : someone who uses another person's words or ideas as if they were his own\n",
            "\n",
            "Example of pirate : []\n"
          ]
        }
      ]
    },
    {
      "cell_type": "code",
      "source": [
        "import nltk\n",
        "from nltk.corpus import wordnet   #Import wordnet from the NLTK\n",
        "syn = list()\n",
        "for synset in wordnet.synsets(\"pirate\"):\n",
        "   for lemma in synset.lemmas():\n",
        "      syn.append(lemma.name())    #add the synonyms\n",
        "print('Synonyms For pirate: '+ str(syn))\n"
      ],
      "metadata": {
        "colab": {
          "base_uri": "https://localhost:8080/"
        },
        "id": "Hwj4DRMyLyUU",
        "outputId": "75e84df1-7909-4f21-8a35-1ac55df5df9d"
      },
      "execution_count": null,
      "outputs": [
        {
          "output_type": "stream",
          "name": "stdout",
          "text": [
            "Synonyms For pirate: ['plagiarist', 'plagiarizer', 'plagiariser', 'literary_pirate', 'pirate', 'pirate', 'buccaneer', 'sea_robber', 'sea_rover', 'pirate', 'pirate_ship', 'pirate', 'commandeer', 'hijack', 'highjack', 'pirate']\n"
          ]
        }
      ]
    },
    {
      "cell_type": "code",
      "source": [
        " synset.hypernyms()"
      ],
      "metadata": {
        "colab": {
          "base_uri": "https://localhost:8080/"
        },
        "id": "ggWdMSF_MAeN",
        "outputId": "2d785bc6-e124-4d49-c3e2-e1376d5686b4"
      },
      "execution_count": null,
      "outputs": [
        {
          "output_type": "execute_result",
          "data": {
            "text/plain": [
              "[Synset('seize.v.02')]"
            ]
          },
          "metadata": {},
          "execution_count": 32
        }
      ]
    },
    {
      "cell_type": "code",
      "source": [
        "synset.hyponyms()"
      ],
      "metadata": {
        "colab": {
          "base_uri": "https://localhost:8080/"
        },
        "id": "YJLKUpe0MU_9",
        "outputId": "7dfb7714-19ed-4835-ffc1-501ea55c1da7"
      },
      "execution_count": null,
      "outputs": [
        {
          "output_type": "execute_result",
          "data": {
            "text/plain": [
              "[Synset('carjack.v.01'), Synset('skyjack.v.01')]"
            ]
          },
          "metadata": {},
          "execution_count": 29
        }
      ]
    },
    {
      "cell_type": "code",
      "source": [
        "synset.member_holonyms()"
      ],
      "metadata": {
        "colab": {
          "base_uri": "https://localhost:8080/"
        },
        "id": "cDlNQWOnManV",
        "outputId": "e7c97df7-31d3-4017-d972-52c426785725"
      },
      "execution_count": null,
      "outputs": [
        {
          "output_type": "execute_result",
          "data": {
            "text/plain": [
              "[]"
            ]
          },
          "metadata": {},
          "execution_count": 20
        }
      ]
    },
    {
      "cell_type": "code",
      "source": [
        "synset.root_hypernyms()"
      ],
      "metadata": {
        "colab": {
          "base_uri": "https://localhost:8080/"
        },
        "id": "MD4TBU0EMe_S",
        "outputId": "7e66ebb5-79bc-42bb-9044-8f0ba43e8758"
      },
      "execution_count": null,
      "outputs": [
        {
          "output_type": "execute_result",
          "data": {
            "text/plain": [
              "[Synset('take.v.04')]"
            ]
          },
          "metadata": {},
          "execution_count": 21
        }
      ]
    },
    {
      "cell_type": "code",
      "source": [
        "synonyms = []\n",
        "antonyms = []\n",
        "\n",
        "for synset in wordnet.synsets(\"pirate\"):\n",
        "    for l in synset.lemmas():\n",
        "        synonyms.append(l.name())\n",
        "        if l.antonyms():\n",
        "            antonyms.append(l.antonyms()[0].name())\n",
        "print(set(synonyms))\n",
        "print(set(antonyms))"
      ],
      "metadata": {
        "id": "pChbiZD5MkWU",
        "colab": {
          "base_uri": "https://localhost:8080/"
        },
        "outputId": "55a46501-533f-43c3-f73a-f7ae1d91b97f"
      },
      "execution_count": null,
      "outputs": [
        {
          "output_type": "stream",
          "name": "stdout",
          "text": [
            "{'sea_rover', 'pirate', 'literary_pirate', 'highjack', 'plagiarizer', 'hijack', 'commandeer', 'pirate_ship', 'sea_robber', 'plagiariser', 'buccaneer', 'plagiarist'}\n",
            "set()\n"
          ]
        }
      ]
    },
    {
      "cell_type": "code",
      "source": [
        "syn1 = wordnet.synsets('pirate')[0]\n",
        "syn2 = wordnet.synsets('sea_rover')[0]\n",
        " \n",
        "print (\":  \", syn1.name())\n",
        "print (\" :  \", syn2.name())"
      ],
      "metadata": {
        "colab": {
          "base_uri": "https://localhost:8080/"
        },
        "id": "3EDUeJ4bNy0D",
        "outputId": "5531ed7f-67d2-4732-d4e0-62785cb4d0e1"
      },
      "execution_count": null,
      "outputs": [
        {
          "output_type": "stream",
          "name": "stdout",
          "text": [
            ":   plagiarist.n.01\n",
            " :   pirate.n.02\n"
          ]
        }
      ]
    },
    {
      "cell_type": "code",
      "source": [
        "syn1.wup_similarity(syn2)"
      ],
      "metadata": {
        "colab": {
          "base_uri": "https://localhost:8080/"
        },
        "id": "A1qVF7UIOhTf",
        "outputId": "a6cd27c4-d2b6-4884-ba7f-c06ea281c1c9"
      },
      "execution_count": null,
      "outputs": [
        {
          "output_type": "execute_result",
          "data": {
            "text/plain": [
              "0.8888888888888888"
            ]
          },
          "metadata": {},
          "execution_count": 27
        }
      ]
    }
  ]
}